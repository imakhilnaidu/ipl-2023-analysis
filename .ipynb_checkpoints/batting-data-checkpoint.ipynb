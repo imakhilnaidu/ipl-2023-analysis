{
 "cells": [
  {
   "cell_type": "code",
   "execution_count": 3,
   "metadata": {},
   "outputs": [],
   "source": [
    "from bs4 import BeautifulSoup\n",
    "import pandas as pd\n",
    "import requests"
   ]
  },
  {
   "cell_type": "code",
   "execution_count": 4,
   "metadata": {},
   "outputs": [],
   "source": [
    "url = \"https://www.espncricinfo.com/records/tournament/averages-batting/indian-premier-league-2023-15129\"\n",
    "\n",
    "headers = {\"User-Agent\": \"Mozilla/5.0 (Windows NT 10.0; Win64; x64) AppleWebKit/537.36 (KHTML, like Gecko) Chrome/42.0.2311.135 Safari/537.36 Edge/12.246\"}\n",
    "\n",
    "page = requests.get(url=url, headers=headers)\n",
    "soup = BeautifulSoup(page.content, \"html.parser\")"
   ]
  },
  {
   "cell_type": "code",
   "execution_count": null,
   "metadata": {},
   "outputs": [],
   "source": [
    "batters_list = []\n",
    "batters = soup.select(\"table > tbody > tr\")\n",
    "\n",
    "for i in range(1, len(batters)+1):\n",
    "    b = {}\n",
    "    \n",
    "    if i % 2 != 0:\n",
    "        b[\"player\"] = soup.select_one(f\"table > tbody > tr:nth-child({i}) > td:nth-child(1)\").text\n",
    "        b[\"matches_played\"] = soup.select_one(f\"table > tbody > tr:nth-child({i}) > td:nth-child(3)\").text\n",
    "        b[\"Innings_played\"] = soup.select_one(f\"table > tbody > tr:nth-child({i}) > td:nth-child(4)\").text\n",
    "        b[\"not_outs\"] = soup.select_one(f\"table > tbody > tr:nth-child({i}) > td:nth-child(5)\").text\n",
    "        b[\"runs_scored\"] = soup.select_one(f\"table > tbody > tr:nth-child({i}) > td:nth-child(6)\").text\n",
    "        b[\"high_score\"] = soup.select_one(f\"table > tbody > tr:nth-child({i}) > td:nth-child(7)\").text\n",
    "        b[\"average\"] = soup.select_one(f\"table > tbody > tr:nth-child({i}) > td:nth-child(8)\").text\n",
    "        b[\"strike_rate\"] = soup.select_one(f\"table > tbody > tr:nth-child({i}) > td:nth-child(9)\").text\n",
    "        b[\"hundreds\"] = soup.select_one(f\"table > tbody > tr:nth-child({i}) > td:nth-child(10)\").text\n",
    "        b[\"fifties\"] = soup.select_one(f\"table > tbody > tr:nth-child({i}) > td:nth-child(11)\").text\n",
    "        b[\"ducks\"] = soup.select_one(f\"table > tbody > tr:nth-child({i}) > td:nth-child(12)\").text\n",
    "        b[\"team\"] = soup.select_one(f\"table > tbody > tr:nth-child({i+1}) > td\").text\n",
    "    \n",
    "    print(b)\n",
    "    batters_list.append(b)\n",
    "    break"
   ]
  },
  {
   "cell_type": "code",
   "execution_count": null,
   "metadata": {},
   "outputs": [],
   "source": []
  }
 ],
 "metadata": {
  "kernelspec": {
   "display_name": "Python 3",
   "language": "python",
   "name": "python3"
  },
  "language_info": {
   "codemirror_mode": {
    "name": "ipython",
    "version": 3
   },
   "file_extension": ".py",
   "mimetype": "text/x-python",
   "name": "python",
   "nbconvert_exporter": "python",
   "pygments_lexer": "ipython3",
   "version": "3.8.3"
  }
 },
 "nbformat": 4,
 "nbformat_minor": 4
}
